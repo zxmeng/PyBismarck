{
 "cells": [
  {
   "cell_type": "code",
   "execution_count": 2,
   "metadata": {
    "ExecuteTime": {
     "end_time": "2019-07-19T22:18:27.815587Z",
     "start_time": "2019-07-19T22:18:27.759590Z"
    }
   },
   "outputs": [
    {
     "name": "stdout",
     "output_type": "stream",
     "text": [
      "Table created successfully in PostgreSQL \n",
      "PostgreSQL connection is closed\n"
     ]
    }
   ],
   "source": [
    "import psycopg2\n",
    "from psycopg2 import Error\n",
    "\n",
    "try:\n",
    "    connection = psycopg2.connect(user = \"bismarckvm\",\n",
    "                                  host = \"127.0.0.1\",\n",
    "                                  port = \"5432\",\n",
    "                                  database = \"test_bismarck\")\n",
    "\n",
    "    cursor = connection.cursor()\n",
    "    \n",
    "    create_table_query = '''CREATE TABLE mobile\n",
    "          (ID INT PRIMARY KEY     NOT NULL,\n",
    "          MODEL           TEXT    NOT NULL,\n",
    "          PRICE         REAL); '''\n",
    "    \n",
    "    cursor.execute(create_table_query)\n",
    "    connection.commit()\n",
    "    print(\"Table created successfully in PostgreSQL \")\n",
    "\n",
    "except (Exception, psycopg2.DatabaseError) as error :\n",
    "    print (\"Error while creating PostgreSQL table\", error)\n",
    "finally:\n",
    "    #closing database connection.\n",
    "        if(connection):\n",
    "            cursor.close()\n",
    "            connection.close()\n",
    "            print(\"PostgreSQL connection is closed\")"
   ]
  },
  {
   "cell_type": "code",
   "execution_count": null,
   "metadata": {},
   "outputs": [],
   "source": []
  },
  {
   "cell_type": "code",
   "execution_count": 5,
   "metadata": {
    "ExecuteTime": {
     "end_time": "2019-07-19T22:51:16.633646Z",
     "start_time": "2019-07-19T22:51:16.275589Z"
    }
   },
   "outputs": [],
   "source": [
    "import sklearn.datasets"
   ]
  },
  {
   "cell_type": "code",
   "execution_count": 6,
   "metadata": {
    "ExecuteTime": {
     "end_time": "2019-07-19T22:51:16.702839Z",
     "start_time": "2019-07-19T22:51:16.692821Z"
    }
   },
   "outputs": [],
   "source": [
    "iris = sklearn.datasets.load_iris()\n",
    "X = iris.data[:, :2]\n",
    "y = (iris.target != 0) * 1"
   ]
  },
  {
   "cell_type": "markdown",
   "metadata": {},
   "source": [
    "# Linear Model"
   ]
  },
  {
   "cell_type": "code",
   "execution_count": null,
   "metadata": {},
   "outputs": [],
   "source": [
    "CREATE TABLE linear_model(\n",
    "    mid serial PRIMARY KEY,\n",
    "    parms double precision[]\n",
    ");"
   ]
  },
  {
   "cell_type": "markdown",
   "metadata": {},
   "source": [
    "# Logistic Regression"
   ]
  },
  {
   "cell_type": "code",
   "execution_count": null,
   "metadata": {},
   "outputs": [],
   "source": [
    "DROP FUNCTION IF EXISTS sigmoid(double precision) CASCADE;\n",
    "CREATE FUNCTION sigmoid(z double precision)\n",
    "    RETURNS double precision\n",
    "AS $$\n",
    "    import numpy as np\n",
    "    \n",
    "    return 1 / (1 + np.exp(-z))\n",
    "$$ LANGUAGE plpythonu;\n"
   ]
  },
  {
   "cell_type": "code",
   "execution_count": null,
   "metadata": {},
   "outputs": [],
   "source": [
    "DROP FUNCTION IF EXISTS dense_logit_agg(double precision[], integer, double precision[]) CASCADE;\n",
    "CREATE FUNCTION dense_logit_agg(x double precision[], y integer, linear_model double precision[])\n",
    "    RETURNS double precision[]\n",
    "AS $$\n",
    "    import numpy as np\n",
    "\n",
    "    mu = linear_model[0]\n",
    "    lr = linear_model[1]\n",
    "    w = linear_model[2:]\n",
    "    wx = np.dot(x, w) \n",
    "\n",
    "    sig = 1.0 / (1.0 + np.exp(wx * y))\n",
    "    c = lr * y * sig\n",
    "    u = mu * lr\n",
    "\n",
    "    for i in range(len(w)):\n",
    "        w[i] += x[i] * c\n",
    "        if w[i] > u:\n",
    "            w[i] -= u\n",
    "        elif w[i] < -u:\n",
    "            w[i] += u\n",
    "        else:\n",
    "            w[i] = 0.0\n",
    "            \n",
    "    return [mu, lr] + w\n",
    "$$ LANGUAGE plpythonu;\n",
    "\n",
    "DROP FUNCTION IF EXISTS dense_logit_loss(double precision[], integer, double precision[]) CASCADE;\n",
    "CREATE FUNCTION dense_logit_loss(x double precision[], y integer, linear_model double precision[])\n",
    "    RETURNS double precision\n",
    "AS $$\n",
    "    import numpy as np\n",
    "    \n",
    "    w = linear_model[2:]\n",
    "    wx = np.dot(x, w)\n",
    "\n",
    "    return np.log(1.0 + np.exp(- y * wx))\n",
    "\n",
    "$$ LANGUAGE plpythonu;\n"
   ]
  },
  {
   "cell_type": "code",
   "execution_count": null,
   "metadata": {
    "ExecuteTime": {
     "end_time": "2019-07-19T23:48:31.930767Z",
     "start_time": "2019-07-19T23:48:31.922390Z"
    }
   },
   "outputs": [],
   "source": [
    "DROP FUNCTION IF EXISTS logit_agg(double precision[], integer, double precision[]) CASCADE;\n",
    "CREATE FUNCTION logit_agg(x double precision[], y integer, linear_model double precision[])\n",
    "    RETURNS double precision[]\n",
    "AS $$\n",
    "    import numpy as np\n",
    "\n",
    "    lr = linear_model[0]\n",
    "    theta = linear_model[1:]\n",
    "    \n",
    "    z = np.dot(x, theta) \n",
    "    h = 1 / (1 + np.exp(-z))\n",
    "    gradient = np.dot(x, (h - y))\n",
    "    for i in range(len(theta)):\n",
    "        theta[i] -= lr * gradient[i]\n",
    "    return [lr] + theta\n",
    "$$ LANGUAGE plpythonu;"
   ]
  },
  {
   "cell_type": "code",
   "execution_count": null,
   "metadata": {},
   "outputs": [],
   "source": [
    "DROP FUNCTION IF EXISTS logit_loss(double precision[], integer, double precision[]) CASCADE;\n",
    "CREATE FUNCTION logit_loss(x double precision[], y integer, linear_model double precision[])\n",
    "    RETURNS double precision\n",
    "AS $$\n",
    "    import numpy as np\n",
    "    \n",
    "    x_array = np.array(x)\n",
    "    lr = linear_model[0]\n",
    "    theta = linear_model[1:]\n",
    "    \n",
    "    z = np.dot(x_array, theta)\n",
    "    h = 1 / (1 + np.exp(-z))\n",
    "    \n",
    "    return -y * np.log(h) - (1 - y) * np.log(1 - h)\n",
    "$$ LANGUAGE plpythonu;"
   ]
  },
  {
   "cell_type": "code",
   "execution_count": null,
   "metadata": {},
   "outputs": [],
   "source": [
    "CREATE FUNCTION logit_agg_iteration(data_table text, model_id integer)\n",
    "RETURNS double precision \n",
    "AS $$\n",
    "DECLARE\n",
    "    weight_vector double precision[];\n",
    "    loss double precision;\n",
    "    BEGIN\n",
    "    -- grad\n",
    "    EXECUTE 'SELECT logit_agg(vec, labeli, \n",
    "                            (SELECT parms \n",
    "                             FROM linear_model \n",
    "                             WHERE mid = ' || model_id || ')) '\n",
    "            || 'FROM ' || quote_ident(data_table)\n",
    "        INTO weight_vector;\n",
    "    -- update\n",
    "    UPDATE linear_model SET parms = weight_vector WHERE mid = model_id;\n",
    "    -- loss\n",
    "    EXECUTE 'SELECT sum(logit_loss(vec, labeli, \n",
    "                           (SELECT parms\n",
    "                            FROM linear_model \n",
    "                            WHERE mid = ' || model_id || '))) '\n",
    "            || 'FROM ' || quote_ident(data_table)\n",
    "        INTO loss;\n",
    "    RETURN loss;\n",
    "END;\n",
    "$$ LANGUAGE plpgsql VOLATILE;"
   ]
  },
  {
   "cell_type": "code",
   "execution_count": null,
   "metadata": {},
   "outputs": [],
   "source": [
    "CREATE FUNCTION logit_train_agg(data_table text, model_id integer, iteration integer)\n",
    "RETURNS VOID \n",
    "AS $$\n",
    "DECLARE\n",
    "    loss double precision;\n",
    "    BEGIN\n",
    "    FOR i IN 1..iteration LOOP\n",
    "        SELECT logit_agg_iteration(data_table, model_id) INTO loss;\n",
    "        RAISE NOTICE '#iter: %, loss value: %', i, loss;\n",
    "    END LOOP;\n",
    "END;\n",
    "$$ LANGUAGE plpgsql VOLATILE;"
   ]
  },
  {
   "cell_type": "code",
   "execution_count": null,
   "metadata": {},
   "outputs": [],
   "source": [
    "DROP FUNCTION IF EXISTS alloc_float8_array(double precision, integer) CASCADE;\n",
    "CREATE FUNCTION alloc_float8_array(mu double precision, n integer)\n",
    "RETURNS double precision[]\n",
    "AS $$\n",
    "    w = [0.0 for _ in range(n)]\n",
    "    return [mu] + w\n",
    "$$ LANGUAGE plpythonu;"
   ]
  },
  {
   "cell_type": "code",
   "execution_count": null,
   "metadata": {},
   "outputs": [],
   "source": [
    "DROP FUNCTION IF EXISTS dense_logit(text, integer, integer, integer, double precision, boolean) CASCADE;\n",
    "CREATE FUNCTION dense_logit(\n",
    "    data_table text,\n",
    "    model_id integer,\n",
    "    ndims integer,\n",
    "    iteration integer /* default 20 */,\n",
    "    mu double precision /* default 1e-2 */,\n",
    "    is_shuffle boolean /* default 'true' */)\n",
    "RETURNS VOID AS $$\n",
    "DECLARE\n",
    "    ntuples integer;\n",
    "    tmp_table text;\n",
    "    initw double precision[] := '{0}';\n",
    "BEGIN\n",
    "    -- query for ntuples and initialize the model table \n",
    "    EXECUTE 'SELECT count(*) FROM ' || data_table\n",
    "        INTO ntuples;\t\n",
    "    SELECT alloc_float8_array(mu, ndims) INTO initw;\n",
    "    DELETE FROM linear_model WHERE mid = model_id;\n",
    "    INSERT INTO linear_model VALUES (model_id, initw); \n",
    "    -- execute iterations\n",
    "    IF is_shuffle THEN\n",
    "        tmp_table := '__bismarck_shuffled_' || data_table || '_' || model_id;\n",
    "        EXECUTE 'DROP TABLE IF EXISTS ' || tmp_table || ' CASCADE';\n",
    "        EXECUTE 'CREATE TABLE ' || tmp_table || ' AS \n",
    "            SELECT * FROM ' || data_table || ' ORDER BY random()';\n",
    "        RAISE NOTICE 'A shuffled table % is created for training', tmp_table;\n",
    "    ELSE\n",
    "        tmp_table := data_table;\n",
    "    END IF;\n",
    "\n",
    "    PERFORM logit_train_agg(tmp_table, model_id, iteration);\n",
    "END;\n",
    "$$ LANGUAGE plpgsql VOLATILE;\n",
    "\n",
    "DROP FUNCTION IF EXISTS dense_logit(text, integer, integer) CASCADE;\n",
    "CREATE FUNCTION dense_logit(\n",
    "    data_table text,\n",
    "    model_id integer,\n",
    "    ndims integer)\n",
    "RETURNS VOID AS $$\n",
    "    SELECT dense_logit($1, $2, $3, 20, 1e-2, 't');\n",
    "$$ LANGUAGE sql VOLATILE;"
   ]
  },
  {
   "cell_type": "code",
   "execution_count": 26,
   "metadata": {
    "ExecuteTime": {
     "end_time": "2019-07-20T00:05:35.229247Z",
     "start_time": "2019-07-20T00:05:35.216464Z"
    }
   },
   "outputs": [],
   "source": [
    "class LogisticRegression:\n",
    "    def __init__(self, lr=0.01, num_iter=100000, fit_intercept=True, verbose=False):\n",
    "        self.lr = lr\n",
    "        self.num_iter = num_iter\n",
    "        self.fit_intercept = fit_intercept\n",
    "        self.verbose = verbose\n",
    "    \n",
    "    def __add_intercept(self, X):\n",
    "        intercept = np.ones((X.shape[0], 1))\n",
    "        return np.concatenate((intercept, X), axis=1)\n",
    "    \n",
    "    def __sigmoid(self, z):\n",
    "        return 1 / (1 + np.exp(-z))\n",
    "    def __loss(self, h, y):\n",
    "        return (-y * np.log(h) - (1 - y) * np.log(1 - h)).mean()\n",
    "    \n",
    "    def fit(self, X, y):\n",
    "        if self.fit_intercept:\n",
    "            X = self.__add_intercept(X)\n",
    "        \n",
    "        # weights initialization\n",
    "        self.theta = np.zeros(X.shape[1])\n",
    "        \n",
    "        for i in range(self.num_iter):\n",
    "            for j in range(len(X)):\n",
    "                x = X[j]\n",
    "                z = np.dot(x, self.theta)\n",
    "\n",
    "                h = self.__sigmoid(z)\n",
    "\n",
    "                gradient = np.dot(x.T, (h - y[j]))\n",
    "\n",
    "                self.theta -= self.lr * gradient\n",
    "\n",
    "                if(self.verbose == True and i % 10000 == 0):\n",
    "                    z = np.dot(x, self.theta)\n",
    "                    h = self.__sigmoid(z)\n",
    "                    print(f'loss: {self.__loss(h, y)} \\t')\n",
    "    \n",
    "    def predict_prob(self, X):\n",
    "        if self.fit_intercept:\n",
    "            X = self.__add_intercept(X)\n",
    "    \n",
    "        return self.__sigmoid(np.dot(X, self.theta))\n",
    "    \n",
    "    def predict(self, X, threshold=0.5):\n",
    "        return self.predict_prob(X) >= threshold"
   ]
  },
  {
   "cell_type": "code",
   "execution_count": 27,
   "metadata": {
    "ExecuteTime": {
     "end_time": "2019-07-20T00:05:36.090267Z",
     "start_time": "2019-07-20T00:05:35.722406Z"
    }
   },
   "outputs": [
    {
     "name": "stdout",
     "output_type": "stream",
     "text": [
      "CPU times: user 2 µs, sys: 0 ns, total: 2 µs\n",
      "Wall time: 5.25 µs\n"
     ]
    }
   ],
   "source": [
    "model = LogisticRegression(lr=0.1, num_iter=300)\n",
    "%time  \n",
    "model.fit(X, y)"
   ]
  },
  {
   "cell_type": "code",
   "execution_count": 28,
   "metadata": {
    "ExecuteTime": {
     "end_time": "2019-07-20T00:05:36.530328Z",
     "start_time": "2019-07-20T00:05:36.521525Z"
    }
   },
   "outputs": [
    {
     "data": {
      "text/plain": [
       "0.9933333333333333"
      ]
     },
     "execution_count": 28,
     "metadata": {},
     "output_type": "execute_result"
    }
   ],
   "source": [
    "preds = model.predict(X)\n",
    "# accuracy\n",
    "(preds == y).mean()"
   ]
  },
  {
   "cell_type": "code",
   "execution_count": 29,
   "metadata": {
    "ExecuteTime": {
     "end_time": "2019-07-20T00:05:37.248651Z",
     "start_time": "2019-07-20T00:05:37.241758Z"
    }
   },
   "outputs": [
    {
     "data": {
      "text/plain": [
       "array([ -7.79730935,   8.8748636 , -12.48484305])"
      ]
     },
     "execution_count": 29,
     "metadata": {},
     "output_type": "execute_result"
    }
   ],
   "source": [
    "model.theta"
   ]
  },
  {
   "cell_type": "code",
   "execution_count": null,
   "metadata": {},
   "outputs": [],
   "source": []
  },
  {
   "cell_type": "markdown",
   "metadata": {},
   "source": [
    "# SVM"
   ]
  },
  {
   "cell_type": "code",
   "execution_count": null,
   "metadata": {
    "ExecuteTime": {
     "end_time": "2019-07-19T23:48:31.930767Z",
     "start_time": "2019-07-19T23:48:31.922390Z"
    }
   },
   "outputs": [],
   "source": [
    "DROP FUNCTION IF EXISTS svm_agg(double precision[], integer, double precision[]) CASCADE;\n",
    "CREATE FUNCTION svm_agg(x double precision[], y integer, linear_model double precision[])\n",
    "    RETURNS double precision[]\n",
    "AS $$\n",
    "    import numpy as np\n",
    "\n",
    "    learn_rate = linear_model[0]\n",
    "    step_size = linear_model[1]\n",
    "    theta = linear_model[2:]\n",
    "    \n",
    "    v = np.dot(x, theta)\n",
    "    if (y * v < 1):\n",
    "        gradient = np.dot(theta, - step_size)\n",
    "        gradient = [y * x[i] - gradient[i] for i in range(len(gradient))]\n",
    "    else:\n",
    "        gradient =  np.dot(theta, - step_size)\n",
    "\n",
    "    for i in range(len(theta)):\n",
    "        theta[i] += learn_rate * gradient[i]\n",
    "        \n",
    "    return [learn_rate, step_size] + theta\n",
    "$$ LANGUAGE plpythonu;"
   ]
  },
  {
   "cell_type": "code",
   "execution_count": null,
   "metadata": {},
   "outputs": [],
   "source": [
    "DROP FUNCTION IF EXISTS svm_loss(double precision[], integer, double precision[]) CASCADE;\n",
    "CREATE FUNCTION svm_loss(x double precision[], y integer, linear_model double precision[])\n",
    "    RETURNS double precision\n",
    "AS $$\n",
    "    import numpy as np\n",
    "    \n",
    "    learn_rate = linear_model[0]\n",
    "    step_size = linear_model[1]\n",
    "    theta = linear_model[2:]\n",
    "    v = np.dot(x, theta)\n",
    "    \n",
    "    return max(0, 1 - y * v)\n",
    "$$ LANGUAGE plpythonu;"
   ]
  },
  {
   "cell_type": "code",
   "execution_count": null,
   "metadata": {},
   "outputs": [],
   "source": [
    "DROP FUNCTION IF EXISTS svm_agg_iteration(text, integer) CASCADE;\n",
    "CREATE FUNCTION svm_agg_iteration(data_table text, model_id integer)\n",
    "RETURNS double precision \n",
    "AS $$\n",
    "DECLARE\n",
    "    weight_vector double precision[];\n",
    "    loss double precision;\n",
    "    BEGIN\n",
    "    -- grad\n",
    "    EXECUTE 'SELECT svm_agg(vec, labeli, \n",
    "                            (SELECT parms \n",
    "                             FROM linear_model \n",
    "                             WHERE mid = ' || model_id || ')) '\n",
    "            || 'FROM ' || quote_ident(data_table)\n",
    "        INTO weight_vector;\n",
    "    -- update\n",
    "    UPDATE linear_model SET parms = weight_vector WHERE mid = model_id;\n",
    "    -- loss\n",
    "    EXECUTE 'SELECT sum(svm_loss(vec, labeli, \n",
    "                           (SELECT parms\n",
    "                            FROM linear_model \n",
    "                            WHERE mid = ' || model_id || '))) '\n",
    "            || 'FROM ' || quote_ident(data_table)\n",
    "        INTO loss;\n",
    "    RETURN loss;\n",
    "END;\n",
    "$$ LANGUAGE plpgsql VOLATILE;"
   ]
  },
  {
   "cell_type": "code",
   "execution_count": null,
   "metadata": {},
   "outputs": [],
   "source": [
    "DROP FUNCTION IF EXISTS svm_train_agg(text, integer, integer) CASCADE;\n",
    "CREATE FUNCTION svm_train_agg(data_table text, model_id integer, iteration integer)\n",
    "RETURNS VOID \n",
    "AS $$\n",
    "DECLARE\n",
    "    loss double precision;\n",
    "    BEGIN\n",
    "    FOR i IN 1..iteration LOOP\n",
    "        SELECT svm_agg_iteration(data_table, model_id) INTO loss;\n",
    "        RAISE NOTICE '#iter: %, loss value: %', i, loss;\n",
    "    END LOOP;\n",
    "END;\n",
    "$$ LANGUAGE plpgsql VOLATILE;"
   ]
  },
  {
   "cell_type": "code",
   "execution_count": null,
   "metadata": {},
   "outputs": [],
   "source": [
    "DROP FUNCTION IF EXISTS alloc_float8_array(double precision, double precision, integer) CASCADE;\n",
    "CREATE FUNCTION alloc_float8_array(mu double precision, s double precision, n integer)\n",
    "RETURNS double precision[]\n",
    "AS $$\n",
    "    w = [0.0 for _ in range(n)]\n",
    "    return [mu, s] + w\n",
    "$$ LANGUAGE plpythonu;"
   ]
  },
  {
   "cell_type": "code",
   "execution_count": null,
   "metadata": {},
   "outputs": [],
   "source": [
    "DROP FUNCTION IF EXISTS dense_svm(text, integer, integer, integer, double precision, boolean) CASCADE;\n",
    "CREATE FUNCTION dense_svm(\n",
    "    data_table text,\n",
    "    model_id integer,\n",
    "    ndims integer,\n",
    "    iteration integer /* default 20 */,\n",
    "    mu double precision /* default 1e-2 */,\n",
    "    stepsize double precision /* default 5e-5 */,\n",
    "    is_shuffle boolean /* default 'true' */)\n",
    "RETURNS VOID AS $$\n",
    "DECLARE\n",
    "    ntuples integer;\n",
    "    tmp_table text;\n",
    "    initw double precision[] := '{0}';\n",
    "BEGIN\n",
    "    -- query for ntuples and initialize the model table \n",
    "    EXECUTE 'SELECT count(*) FROM ' || data_table\n",
    "        INTO ntuples;\t\n",
    "    SELECT alloc_float8_array(mu, stepsize, ndims) INTO initw;\n",
    "    DELETE FROM linear_model WHERE mid = model_id;\n",
    "    INSERT INTO linear_model VALUES (model_id, initw); \n",
    "    -- execute iterations\n",
    "    IF is_shuffle THEN\n",
    "        tmp_table := '__bismarck_shuffled_' || data_table || '_' || model_id;\n",
    "        EXECUTE 'DROP TABLE IF EXISTS ' || tmp_table || ' CASCADE';\n",
    "        EXECUTE 'CREATE TABLE ' || tmp_table || ' AS \n",
    "            SELECT * FROM ' || data_table || ' ORDER BY random()';\n",
    "        RAISE NOTICE 'A shuffled table % is created for training', tmp_table;\n",
    "    ELSE\n",
    "        tmp_table := data_table;\n",
    "    END IF;\n",
    "\n",
    "    PERFORM svm_train_agg(tmp_table, model_id, iteration);\n",
    "END;\n",
    "$$ LANGUAGE plpgsql VOLATILE;\n",
    "\n",
    "DROP FUNCTION IF EXISTS dense_svm(text, integer, integer) CASCADE;\n",
    "CREATE FUNCTION dense_svm(\n",
    "    data_table text,\n",
    "    model_id integer,\n",
    "    ndims integer)\n",
    "RETURNS VOID AS $$\n",
    "    SELECT dense_svm($1, $2, $3, 20, 1e-2, 5e-5, 't');\n",
    "$$ LANGUAGE sql VOLATILE;"
   ]
  },
  {
   "cell_type": "code",
   "execution_count": null,
   "metadata": {},
   "outputs": [],
   "source": []
  },
  {
   "cell_type": "code",
   "execution_count": 1,
   "metadata": {
    "ExecuteTime": {
     "end_time": "2019-07-22T17:01:59.840790Z",
     "start_time": "2019-07-22T17:01:59.497536Z"
    }
   },
   "outputs": [],
   "source": [
    "# importing some basic libraries\n",
    "%matplotlib inline\n",
    "import matplotlib.pyplot as plt\n",
    "from matplotlib import style\n",
    "style.use('ggplot')\n",
    "import numpy as np"
   ]
  },
  {
   "cell_type": "code",
   "execution_count": 2,
   "metadata": {
    "ExecuteTime": {
     "end_time": "2019-07-22T17:02:01.821488Z",
     "start_time": "2019-07-22T17:02:01.733617Z"
    }
   },
   "outputs": [],
   "source": [
    "class SVM(object):\n",
    "    def __init__(self, visualization=True):\n",
    "        self.visualization = visualization\n",
    "        self.colors = {1:'r',-1:'b'}\n",
    "        if self.visualization:\n",
    "            self.fig = plt.figure()\n",
    "            self.ax = self.fig.add_subplot(1,1,1)\n",
    "    \n",
    "    def fit(self, data):\n",
    "        #train with data\n",
    "        self.data = data\n",
    "        # { |\\w\\|:{w,b}}\n",
    "        opt_dict = {}\n",
    "        \n",
    "        transforms = [[1,1],[-1,1],[-1,-1],[1,-1]]\n",
    "        \n",
    "        all_data = np.array([])\n",
    "        for yi in self.data:\n",
    "            all_data = np.append(all_data,self.data[yi])\n",
    "                    \n",
    "        self.max_feature_value = max(all_data)         \n",
    "        self.min_feature_value = min(all_data)\n",
    "        all_data = None\n",
    "        \n",
    "        #with smaller steps our margins and db will be more precise\n",
    "        step_sizes = [self.max_feature_value * 0.1,\n",
    "                      self.max_feature_value * 0.01,\n",
    "                      #point of expense\n",
    "                      self.max_feature_value * 0.001,]\n",
    "        \n",
    "        #extremly expensise\n",
    "        b_range_multiple = 5\n",
    "        #we dont need to take as small step as w\n",
    "        b_multiple = 5\n",
    "        \n",
    "        latest_optimum = self.max_feature_value*10\n",
    "        \n",
    "        \"\"\"\n",
    "        objective is to satisfy yi(x.w)+b>=1 for all training dataset such that ||w|| is minimum\n",
    "        for this we will start with random w, and try to satisfy it with making b bigger and bigger\n",
    "        \"\"\"\n",
    "        #making step smaller and smaller to get precise value\n",
    "        for step in step_sizes:\n",
    "            w = np.array([latest_optimum,latest_optimum])\n",
    "            \n",
    "            #we can do this because convex\n",
    "            optimized = False\n",
    "            while not optimized:\n",
    "                for b in np.arange(-1*self.max_feature_value*b_range_multiple,\n",
    "                                   self.max_feature_value*b_range_multiple,\n",
    "                                   step*b_multiple):\n",
    "                    for transformation in transforms:\n",
    "                        w_t = w*transformation\n",
    "                        found_option = True\n",
    "                        \n",
    "                        #weakest link in SVM fundamentally\n",
    "                        #SMO attempts to fix this a bit\n",
    "                        # ti(xi.w+b) >=1\n",
    "                        for i in self.data:\n",
    "                            for xi in self.data[i]:\n",
    "                                yi=i\n",
    "                                if not yi*(np.dot(w_t,xi)+b)>=1:\n",
    "                                    found_option=False\n",
    "                        if found_option:\n",
    "                            \"\"\"\n",
    "                            all points in dataset satisfy y(w.x)+b>=1 for this cuurent w_t, b\n",
    "                            then put w,b in dict with ||w|| as key\n",
    "                            \"\"\"\n",
    "                            opt_dict[np.linalg.norm(w_t)]=[w_t,b]\n",
    "                \n",
    "                #after w[0] or w[1]<0 then values of w starts repeating itself because of transformation\n",
    "                #Think about it, it is easy\n",
    "                #print(w,len(opt_dict)) Try printing to understand\n",
    "                if w[0]<0:\n",
    "                    optimized=True\n",
    "                    print(\"optimized a step\")\n",
    "                else:\n",
    "                    w = w-step\n",
    "                    \n",
    "            # sorting ||w|| to put the smallest ||w|| at poition 0 \n",
    "            norms = sorted([n for n in opt_dict])\n",
    "            #optimal values of w,b\n",
    "            opt_choice = opt_dict[norms[0]]\n",
    "\n",
    "            self.w=opt_choice[0]\n",
    "            self.b=opt_choice[1]\n",
    "            \n",
    "            #start with new latest_optimum (initial values for w)\n",
    "            latest_optimum = opt_choice[0][0]+step*2\n",
    "    \n",
    "    def predict(self,features):\n",
    "        #sign(x.w+b)\n",
    "        classification = np.sign(np.dot(np.array(features),self.w)+self.b)\n",
    "        if classification!=0 and self.visualization:\n",
    "            self.ax.scatter(features[0],features[1],s=200,marker='*',c=self.colors[classification])\n",
    "        return (classification,np.dot(np.array(features),self.w)+self.b)\n",
    "    \n",
    "    def visualize(self):\n",
    "        [[self.ax.scatter(x[0],x[1],s=100,c=self.colors[i]) for x in data_dict[i]] for i in data_dict]\n",
    "        \n",
    "        # hyperplane = x.w+b (actually its a line)\n",
    "        # v = x0.w0+x1.w1+b -> x1 = (v-w[0].x[0]-b)/w1\n",
    "        #psv = 1     psv line ->  x.w+b = 1a small value of b we will increase it later\n",
    "        #nsv = -1    nsv line ->  x.w+b = -1\n",
    "        # dec = 0    db line  ->  x.w+b = 0\n",
    "        def hyperplane(x,w,b,v):\n",
    "            #returns a x2 value on line when given x1\n",
    "            return (-w[0]*x-b+v)/w[1]\n",
    "       \n",
    "        hyp_x_min= self.min_feature_value*0.9\n",
    "        hyp_x_max = self.max_feature_value*1.1\n",
    "        \n",
    "        # (w.x+b)=1\n",
    "        # positive support vector hyperplane\n",
    "        pav1 = hyperplane(hyp_x_min,self.w,self.b,1)\n",
    "        pav2 = hyperplane(hyp_x_max,self.w,self.b,1)\n",
    "        self.ax.plot([hyp_x_min,hyp_x_max],[pav1,pav2],'k')\n",
    "        \n",
    "        # (w.x+b)=-1\n",
    "        # negative support vector hyperplane\n",
    "        nav1 = hyperplane(hyp_x_min,self.w,self.b,-1)\n",
    "        nav2 = hyperplane(hyp_x_max,self.w,self.b,-1)\n",
    "        self.ax.plot([hyp_x_min,hyp_x_max],[nav1,nav2],'k')\n",
    "        \n",
    "        # (w.x+b)=0\n",
    "        # db support vector hyperplane\n",
    "        db1 = hyperplane(hyp_x_min,self.w,self.b,0)\n",
    "        db2 = hyperplane(hyp_x_max,self.w,self.b,0)\n",
    "        self.ax.plot([hyp_x_min,hyp_x_max],[db1,db2],'y--')"
   ]
  },
  {
   "cell_type": "code",
   "execution_count": 3,
   "metadata": {
    "ExecuteTime": {
     "end_time": "2019-07-22T17:02:02.463269Z",
     "start_time": "2019-07-22T17:02:02.454152Z"
    }
   },
   "outputs": [],
   "source": [
    "#defining a basic data\n",
    "data_dict = {-1:np.array([[1,7],[2,8],[3,8]]),1:np.array([[5,1],[6,-1],[7,3]])}"
   ]
  },
  {
   "cell_type": "code",
   "execution_count": 4,
   "metadata": {
    "ExecuteTime": {
     "end_time": "2019-07-22T17:02:11.317657Z",
     "start_time": "2019-07-22T17:02:02.669013Z"
    }
   },
   "outputs": [
    {
     "name": "stdout",
     "output_type": "stream",
     "text": [
      "optimized a step\n",
      "optimized a step\n",
      "optimized a step\n"
     ]
    },
    {
     "data": {
      "image/png": "[encoded data removed]",
      "text/plain": [
       "<Figure size 432x288 with 1 Axes>"
      ]
     },
     "metadata": {
      "needs_background": "light"
     },
     "output_type": "display_data"
    }
   ],
   "source": [
    "svm = SVM() # Linear Kernel\n",
    "svm.fit(data=data_dict)\n",
    "svm.visualize()"
   ]
  },
  {
   "cell_type": "code",
   "execution_count": 5,
   "metadata": {
    "ExecuteTime": {
     "end_time": "2019-07-22T17:02:11.357626Z",
     "start_time": "2019-07-22T17:02:11.348120Z"
    }
   },
   "outputs": [
    {
     "data": {
      "text/plain": [
       "(-1.0, -1.000000000000098)"
      ]
     },
     "execution_count": 5,
     "metadata": {},
     "output_type": "execute_result"
    }
   ],
   "source": [
    "svm.predict([3,8])"
   ]
  },
  {
   "cell_type": "code",
   "execution_count": 6,
   "metadata": {
    "ExecuteTime": {
     "end_time": "2019-07-22T17:48:47.138712Z",
     "start_time": "2019-07-22T17:48:47.126896Z"
    }
   },
   "outputs": [],
   "source": [
    "import numpy as np\n",
    "from matplotlib import pyplot as plt\n",
    "%matplotlib inline"
   ]
  },
  {
   "cell_type": "code",
   "execution_count": 7,
   "metadata": {
    "ExecuteTime": {
     "end_time": "2019-07-22T17:48:47.356828Z",
     "start_time": "2019-07-22T17:48:47.351479Z"
    }
   },
   "outputs": [],
   "source": [
    "#Input data\n",
    "x = np.array([\n",
    "    [-2,4,-1],\n",
    "    [4,1,-1],\n",
    "    [1, 6, -1],\n",
    "    [2, 4, -1],\n",
    "    [6, 2, -1],\n",
    "\n",
    "])\n",
    "\n",
    "\n",
    "#output label\n",
    "y = np.array([-1, -1, 1, 1, 1])"
   ]
  },
  {
   "cell_type": "code",
   "execution_count": 8,
   "metadata": {
    "ExecuteTime": {
     "end_time": "2019-07-22T17:48:47.904134Z",
     "start_time": "2019-07-22T17:48:47.599598Z"
    }
   },
   "outputs": [
    {
     "data": {
      "text/plain": [
       "[<matplotlib.lines.Line2D at 0x112862518>]"
      ]
     },
     "execution_count": 8,
     "metadata": {},
     "output_type": "execute_result"
    },
    {
     "data": {
      "image/png": "[encoded data removed]",
      "text/plain": [
       "<Figure size 432x288 with 1 Axes>"
      ]
     },
     "metadata": {
      "needs_background": "light"
     },
     "output_type": "display_data"
    }
   ],
   "source": [
    "for val, inp in enumerate(x):\n",
    "    if y[val] == -1:\n",
    "        plt.scatter(inp[0], inp[1], s=100, marker='_', linewidths=5)\n",
    "    else:\n",
    "        plt.scatter(inp[0], inp[1], s=100, marker='+', linewidths=5)\n",
    "\n",
    "plt.plot([-2,6],[6,1])"
   ]
  },
  {
   "cell_type": "code",
   "execution_count": 9,
   "metadata": {
    "ExecuteTime": {
     "end_time": "2019-07-22T17:48:47.985815Z",
     "start_time": "2019-07-22T17:48:47.965465Z"
    }
   },
   "outputs": [],
   "source": [
    "def svm_function(x,y):\n",
    "    #initilizing weight\n",
    "    w = np.zeros(len(x[0]))\n",
    "    #initialize learning rate\n",
    "    l_rate = 1\n",
    "    #epoch\n",
    "    epoch = 100000\n",
    "    #output list\n",
    "    out = []\n",
    "    #training svm\n",
    "    for e in range(epoch):\n",
    "        for i, val in enumerate(x):\n",
    "            val1 = np.dot(x[i], w)\n",
    "            if (y[i]*val1 < 1):\n",
    "                w = w + l_rate * ((y[i]*x[i]) - (2*(1/epoch)*w))\n",
    "            else:\n",
    "                w = w + l_rate * (-2*(1/epoch)*w)\n",
    "    \n",
    "    for i, val in enumerate(x):\n",
    "        out.append(np.dot(x[i], w))\n",
    "    \n",
    "    return w, out"
   ]
  },
  {
   "cell_type": "code",
   "execution_count": 10,
   "metadata": {
    "ExecuteTime": {
     "end_time": "2019-07-22T17:48:52.605769Z",
     "start_time": "2019-07-22T17:48:48.316514Z"
    }
   },
   "outputs": [],
   "source": [
    "w, out = svm_function(x,y)"
   ]
  },
  {
   "cell_type": "code",
   "execution_count": 11,
   "metadata": {
    "ExecuteTime": {
     "end_time": "2019-07-22T17:48:57.009122Z",
     "start_time": "2019-07-22T17:48:57.004814Z"
    }
   },
   "outputs": [
    {
     "name": "stdout",
     "output_type": "stream",
     "text": [
      "Calculated weights\n",
      "[ 1.50157001  3.00057251 10.50863266]\n"
     ]
    }
   ],
   "source": [
    "print('Calculated weights')\n",
    "print(w)"
   ]
  },
  {
   "cell_type": "code",
   "execution_count": 12,
   "metadata": {
    "ExecuteTime": {
     "end_time": "2019-07-22T17:49:01.233014Z",
     "start_time": "2019-07-22T17:49:01.226114Z"
    }
   },
   "outputs": [
    {
     "name": "stdout",
     "output_type": "stream",
     "text": [
      "predicted output\n",
      "[-1.509482661019593, -1.5017801059577938, 8.996372385026156, 4.496797386268188, 4.501932422976054]\n"
     ]
    }
   ],
   "source": [
    "print('predicted output')\n",
    "print(out)"
   ]
  },
  {
   "cell_type": "code",
   "execution_count": 13,
   "metadata": {
    "ExecuteTime": {
     "end_time": "2019-07-22T17:49:07.071060Z",
     "start_time": "2019-07-22T17:49:06.752138Z"
    }
   },
   "outputs": [
    {
     "data": {
      "text/plain": [
       "<matplotlib.quiver.Quiver at 0x1129f7630>"
      ]
     },
     "execution_count": 13,
     "metadata": {},
     "output_type": "execute_result"
    },
    {
     "data": {
      "image/png": "[encoded data removed]",
      "text/plain": [
       "<Figure size 432x288 with 1 Axes>"
      ]
     },
     "metadata": {
      "needs_background": "light"
     },
     "output_type": "display_data"
    }
   ],
   "source": [
    "u = np.array([\n",
    "    [-1,3,-1],\n",
    "    [5,5,-1],\n",
    "    \n",
    "])\n",
    "   \n",
    "    \n",
    "for val, inp in enumerate(x):\n",
    "    if y[val] == -1:\n",
    "        plt.scatter(inp[0], inp[1], s=100, marker='_', linewidths=5)\n",
    "    else:\n",
    "        plt.scatter(inp[0], inp[1], s=100, marker='+', linewidths=5)\n",
    "\n",
    "plt.scatter(-1,3, s=100, marker='_', linewidths=5)   \n",
    "plt.scatter(5,5, s=100, marker='+', linewidths=5)   \n",
    "\n",
    "\n",
    "x1=[w[0],w[1],-w[1],w[0]]\n",
    "x2=[w[0],w[1],w[1],-w[0]]\n",
    "\n",
    "x1x2 =np.array([x1,x2])\n",
    "X,Y,U,V = zip(*x1x2)\n",
    "ax = plt.gca()\n",
    "ax.quiver(X,Y,U,V,scale=1, color='blue')"
   ]
  },
  {
   "cell_type": "code",
   "execution_count": null,
   "metadata": {},
   "outputs": [],
   "source": []
  }
 ],
 "metadata": {
  "kernelspec": {
   "display_name": "Python 3",
   "language": "python",
   "name": "python3"
  },
  "language_info": {
   "codemirror_mode": {
    "name": "ipython",
    "version": 3
   },
   "file_extension": ".py",
   "mimetype": "text/x-python",
   "name": "python",
   "nbconvert_exporter": "python",
   "pygments_lexer": "ipython3",
   "version": "3.6.8"
  },
  "toc": {
   "base_numbering": 1,
   "nav_menu": {},
   "number_sections": true,
   "sideBar": true,
   "skip_h1_title": false,
   "title_cell": "Table of Contents",
   "title_sidebar": "Contents",
   "toc_cell": false,
   "toc_position": {},
   "toc_section_display": true,
   "toc_window_display": false
  },
  "varInspector": {
   "cols": {
    "lenName": 16,
    "lenType": 16,
    "lenVar": 40
   },
   "kernels_config": {
    "python": {
     "delete_cmd_postfix": "",
     "delete_cmd_prefix": "del ",
     "library": "var_list.py",
     "varRefreshCmd": "print(var_dic_list())"
    },
    "r": {
     "delete_cmd_postfix": ") ",
     "delete_cmd_prefix": "rm(",
     "library": "var_list.r",
     "varRefreshCmd": "cat(var_dic_list()) "
    }
   },
   "types_to_exclude": [
    "module",
    "function",
    "builtin_function_or_method",
    "instance",
    "_Feature"
   ],
   "window_display": false
  }
 },
 "nbformat": 4,
 "nbformat_minor": 2
}
