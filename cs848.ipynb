{
 "cells": [
  {
   "cell_type": "code",
   "execution_count": 1,
   "metadata": {},
   "outputs": [
    {
     "name": "stdout",
     "output_type": "stream",
     "text": [
      "['/Users/lucasmeng/PyBismarck', '/usr/local/bin/python', '/Users/lucasmeng/PyBismarck', '/Users/lucasmeng/anaconda3/envs/py37/lib/python37.zip', '/Users/lucasmeng/anaconda3/envs/py37/lib/python3.7', '/Users/lucasmeng/anaconda3/envs/py37/lib/python3.7/lib-dynload', '', '/Users/lucasmeng/anaconda3/envs/py37/lib/python3.7/site-packages', '/Users/lucasmeng/anaconda3/envs/py37/lib/python3.7/site-packages/IPython/extensions', '/Users/lucasmeng/.ipython']\n"
     ]
    }
   ],
   "source": [
    "import sys\n",
    "print(sys.path)"
   ]
  },
  {
   "cell_type": "code",
   "execution_count": 2,
   "metadata": {},
   "outputs": [],
   "source": [
    "import psycopg2\n",
    "import pandas as pd\n",
    "import numpy as np\n",
    "import time"
   ]
  },
  {
   "cell_type": "code",
   "execution_count": 3,
   "metadata": {},
   "outputs": [],
   "source": [
    "from sklearn.datasets import load_iris\n",
    "from sklearn.linear_model import LogisticRegression"
   ]
  },
  {
   "cell_type": "code",
   "execution_count": 4,
   "metadata": {},
   "outputs": [],
   "source": [
    "connection = psycopg2.connect(database = \"test_bismarck\",\n",
    "                             user = \"bismarckvm\",\n",
    "                             host= \"127.0.0.1\",\n",
    "                             port = \"5432\")"
   ]
  },
  {
   "cell_type": "code",
   "execution_count": 5,
   "metadata": {},
   "outputs": [],
   "source": [
    "from warnings import filterwarnings\n",
    "filterwarnings('ignore')"
   ]
  },
  {
   "cell_type": "code",
   "execution_count": 27,
   "metadata": {
    "scrolled": true
   },
   "outputs": [
    {
     "name": "stdout",
     "output_type": "stream",
     "text": [
      "Epoch  0 [305145.77190648]\n",
      "--- 39.0962700843811 seconds ---\n",
      "Epoch  1 [298974.97627127]\n",
      "--- 77.6692099571228 seconds ---\n",
      "Epoch  2 [299068.3198017]\n",
      "--- 116.08256602287292 seconds ---\n",
      "Epoch  3 [299133.75694716]\n",
      "--- 155.05247282981873 seconds ---\n",
      "Epoch  4 [298936.42298659]\n",
      "--- 193.99852180480957 seconds ---\n",
      "Epoch  5 [299200.3929031]\n",
      "--- 232.62483096122742 seconds ---\n",
      "Epoch  6 [299016.14068494]\n",
      "--- 270.9761381149292 seconds ---\n",
      "Epoch  7 [299080.2562]\n",
      "--- 309.7645399570465 seconds ---\n",
      "Epoch  8 [298770.17704546]\n",
      "--- 348.1434681415558 seconds ---\n",
      "Epoch  9 [298554.56533713]\n",
      "--- 386.46035504341125 seconds ---\n",
      "Epoch  10 [299417.27796534]\n",
      "--- 425.1483941078186 seconds ---\n",
      "Epoch  11 [299547.58178128]\n",
      "--- 464.6201648712158 seconds ---\n",
      "Epoch  12 [298354.79948822]\n",
      "--- 503.2972888946533 seconds ---\n",
      "Epoch  13 [299202.70480805]\n",
      "--- 543.927169084549 seconds ---\n",
      "Epoch  14 [299262.19768488]\n",
      "--- 588.0253570079803 seconds ---\n",
      "Epoch  15 [298921.41803801]\n",
      "--- 631.0649271011353 seconds ---\n",
      "Epoch  16 [299129.65068251]\n",
      "--- 672.8658549785614 seconds ---\n",
      "Epoch  17 [299285.09781856]\n",
      "--- 713.5410859584808 seconds ---\n",
      "Epoch  18 [299112.13437772]\n",
      "--- 753.6339859962463 seconds ---\n",
      "Epoch  19 [299093.04486434]\n",
      "--- 794.0698571205139 seconds ---\n",
      "--- 794.0699689388275 seconds ---\n"
     ]
    }
   ],
   "source": [
    "start = time.time()\n",
    "\n",
    "connection = psycopg2.connect(database = \"test_bismarck\",\n",
    "                             user = \"bismarckvm\",\n",
    "                             host= \"127.0.0.1\",\n",
    "                             port = \"5432\")\n",
    "\n",
    "iterations = 20\n",
    "limit = 50000\n",
    "epochs = 581012 // limit + 1\n",
    "clf = LogisticRegression(random_state=0, solver='sag', penalty='l2', max_iter=1, warm_start=True)\n",
    "\n",
    "for iter in range(iterations):\n",
    "    loss = 0.0\n",
    "    for e in range(epochs):\n",
    "        offset = e * limit\n",
    "        select_query = \"select * from forest limit \" + str(limit) + \" offset \" + str(offset) + \";\"\n",
    "        forest_df = pd.read_sql(select_query, connection)\n",
    "\n",
    "        X = list(forest_df[\"vec\"])\n",
    "        X = np.array(X)\n",
    "        y = forest_df[\"labeli\"].values\n",
    "        clf.fit(X, y)\n",
    "        w = (clf.coef_).reshape(-1, len(clf.coef_))\n",
    "        loss += sum(np.log(1 + np.exp(np.multiply((np.dot(X, w) + clf.intercept_), -y.reshape(len(y),-1)))))\n",
    "#         print(loss)\n",
    "        \n",
    "    print(\"Epoch \", iter, loss)\n",
    "    print(\"--- %s seconds ---\" % (time.time() - start))\n",
    "\n",
    "print(\"--- %s seconds ---\" % (time.time() - start))"
   ]
  },
  {
   "cell_type": "code",
   "execution_count": null,
   "metadata": {},
   "outputs": [],
   "source": [
    "from sklearn.svm import SVC"
   ]
  },
  {
   "cell_type": "code",
   "execution_count": null,
   "metadata": {},
   "outputs": [],
   "source": [
    "start = time.time()\n",
    "\n",
    "connection = psycopg2.connect(database = \"test_bismarck\",\n",
    "                             user = \"bismarckvm\",\n",
    "                             host= \"127.0.0.1\",\n",
    "                             port = \"5432\")\n",
    "\n",
    "iterations = 20\n",
    "limit = 50000\n",
    "epochs = 581012 // limit + 1\n",
    "clf = SVC(random_state=0, probability=True, max_iter=1, warm_start=True)\n",
    "\n",
    "for iter in range(iterations):\n",
    "    loss = 0.0\n",
    "    for e in range(epochs):\n",
    "        offset = e * limit\n",
    "        select_query = \"select * from forest limit \" + str(limit) + \" offset \" + str(offset) + \";\"\n",
    "        forest_df = pd.read_sql(select_query, connection)\n",
    "\n",
    "        X = list(forest_df[\"vec\"])\n",
    "        X = np.array(X)\n",
    "        y = forest_df[\"labeli\"].values\n",
    "        clf.fit(X, y)\n",
    "        w = (clf.coef_).reshape(-1, len(clf.coef_))\n",
    "        loss += sum(np.log(1 + np.exp(np.multiply((np.dot(X, w) + clf.intercept_), -y.reshape(len(y),-1)))))\n",
    "#         print(loss)\n",
    "        \n",
    "    print(\"Epoch \", iter, loss)\n",
    "    print(\"--- %s seconds ---\" % (time.time() - start))\n",
    "\n",
    "print(\"--- %s seconds ---\" % (time.time() - start))"
   ]
  },
  {
   "cell_type": "code",
   "execution_count": 25,
   "metadata": {},
   "outputs": [],
   "source": [
    "from sklearn.linear_model import SGDClassifier"
   ]
  },
  {
   "cell_type": "code",
   "execution_count": null,
   "metadata": {},
   "outputs": [],
   "source": [
    "start = time.time()\n",
    "\n",
    "connection = psycopg2.connect(database = \"test_bismarck\",\n",
    "                             user = \"bismarckvm\",\n",
    "                             host= \"127.0.0.1\",\n",
    "                             port = \"5432\")\n",
    "\n",
    "iterations = 20\n",
    "limit = 50000\n",
    "epochs = 581012 // limit + 1\n",
    "clf = SGDClassifier(loss='hinge', penalty='l1', alpha=1e-2, max_iter=1, random_state=0, warm_start=True)\n",
    "w = np.zeros(54)\n",
    "b = [0.0]\n",
    "\n",
    "for iter in range(iterations):\n",
    "    loss = 0.0\n",
    "    for e in range(epochs):\n",
    "        offset = e * limit\n",
    "        select_query = \"select * from forest limit \" + str(limit) + \" offset \" + str(offset) + \";\"\n",
    "        forest_df = pd.read_sql(select_query, connection)\n",
    "\n",
    "        X = list(forest_df[\"vec\"])\n",
    "        X = np.array(X)\n",
    "        y = forest_df[\"labeli\"].values\n",
    "        if e != 0:\n",
    "            clf.coef_[0] = w\n",
    "            clf.intercept_[0] = b\n",
    "#             print(clf.coef_)\n",
    "        clf.partial_fit(X, y, classes=[-1, 1])\n",
    "#         w = (clf.coef_).reshape(-1, len(clf.coef_))\n",
    "        w = clf.coef_[0]\n",
    "        b = clf.intercept_[0]\n",
    "#         print(w)\n",
    "        loss += clf.score(X, y)\n",
    "#         print(loss)\n",
    "        \n",
    "    print(\"Epoch \", iter, loss/epochs)\n",
    "\n",
    "print(\"--- %s seconds ---\" % (time.time() - start))"
   ]
  },
  {
   "cell_type": "code",
   "execution_count": 15,
   "metadata": {},
   "outputs": [],
   "source": [
    "select_query = \"select * from forest limit \" + str(5000) + \" offset \" + str(0) + \";\"\n",
    "forest_df = pd.read_sql(select_query, connection)\n",
    "\n",
    "X = list(forest_df[\"vec\"])\n",
    "X = np.array(X)\n",
    "y = forest_df[\"labeli\"].values\n",
    "clf.fit(X, y)\n",
    "w = (clf.coef_).reshape(-1, len(clf.coef_))\n",
    "loss = np.log(1 + np.exp(np.multiply((np.dot(X, w) + clf.intercept_), -y.reshape(len(y),-1))))"
   ]
  },
  {
   "cell_type": "code",
   "execution_count": 16,
   "metadata": {},
   "outputs": [
    {
     "data": {
      "text/plain": [
       "array([[0.00663589],\n",
       "       [1.28014694],\n",
       "       [0.8918104 ],\n",
       "       ...,\n",
       "       [0.5011238 ],\n",
       "       [0.3279529 ],\n",
       "       [0.06660356]])"
      ]
     },
     "execution_count": 16,
     "metadata": {},
     "output_type": "execute_result"
    }
   ],
   "source": [
    "loss"
   ]
  },
  {
   "cell_type": "code",
   "execution_count": 17,
   "metadata": {},
   "outputs": [],
   "source": [
    "state = [[1,2,3],[4,5,6],[7,8,9]]"
   ]
  },
  {
   "cell_type": "code",
   "execution_count": 21,
   "metadata": {},
   "outputs": [],
   "source": [
    "s = np.array(state)"
   ]
  },
  {
   "cell_type": "code",
   "execution_count": 22,
   "metadata": {},
   "outputs": [
    {
     "data": {
      "text/plain": [
       "array([3, 6, 9])"
      ]
     },
     "execution_count": 22,
     "metadata": {},
     "output_type": "execute_result"
    }
   ],
   "source": [
    "s[:, -1]"
   ]
  },
  {
   "cell_type": "code",
   "execution_count": 23,
   "metadata": {},
   "outputs": [
    {
     "data": {
      "text/plain": [
       "array([[1, 2],\n",
       "       [4, 5],\n",
       "       [7, 8]])"
      ]
     },
     "execution_count": 23,
     "metadata": {},
     "output_type": "execute_result"
    }
   ],
   "source": [
    "s[:, :-1]"
   ]
  },
  {
   "cell_type": "code",
   "execution_count": 20,
   "metadata": {},
   "outputs": [
    {
     "data": {
      "text/plain": [
       "[3, 6, 9]"
      ]
     },
     "execution_count": 20,
     "metadata": {},
     "output_type": "execute_result"
    }
   ],
   "source": [
    "[el[-1] for el in state]"
   ]
  },
  {
   "cell_type": "code",
   "execution_count": 15,
   "metadata": {},
   "outputs": [
    {
     "data": {
      "text/plain": [
       "array([[1, 2, 3],\n",
       "       [2, 3, 4]])"
      ]
     },
     "execution_count": 15,
     "metadata": {},
     "output_type": "execute_result"
    }
   ],
   "source": [
    "np.array(state[:][:-1])"
   ]
  },
  {
   "cell_type": "code",
   "execution_count": null,
   "metadata": {},
   "outputs": [],
   "source": []
  }
 ],
 "metadata": {
  "kernelspec": {
   "display_name": "Python 3",
   "language": "python",
   "name": "python3"
  },
  "language_info": {
   "codemirror_mode": {
    "name": "ipython",
    "version": 3
   },
   "file_extension": ".py",
   "mimetype": "text/x-python",
   "name": "python",
   "nbconvert_exporter": "python",
   "pygments_lexer": "ipython3",
   "version": "3.7.3"
  }
 },
 "nbformat": 4,
 "nbformat_minor": 2
}
